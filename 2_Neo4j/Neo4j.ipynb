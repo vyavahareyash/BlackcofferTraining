{
 "cells": [
  {
   "cell_type": "markdown",
   "metadata": {},
   "source": [
    "# Imports"
   ]
  },
  {
   "cell_type": "code",
   "execution_count": 1,
   "metadata": {},
   "outputs": [],
   "source": [
    "from neo4j import GraphDatabase"
   ]
  },
  {
   "cell_type": "markdown",
   "metadata": {},
   "source": [
    "# Establish Connection"
   ]
  },
  {
   "cell_type": "code",
   "execution_count": 2,
   "metadata": {},
   "outputs": [],
   "source": [
    "URI = \"neo4j+s://d4757d6d.databases.neo4j.io\"\n",
    "AUTH = (\"neo4j\", \"dmmaXVPJMAgniJ3aQW50hGhu5YjaAOdR-nVIB7n2H8s\")\n",
    "\n",
    "driver =  GraphDatabase.driver(URI, auth=AUTH) \n",
    "driver.verify_connectivity()"
   ]
  },
  {
   "cell_type": "code",
   "execution_count": 3,
   "metadata": {},
   "outputs": [],
   "source": [
    "def read_cypher_query_from_file(file_path):\n",
    "    with open(file_path, \"r\") as file:\n",
    "        query = file.read()\n",
    "    return query"
   ]
  },
  {
   "cell_type": "code",
   "execution_count": 21,
   "metadata": {},
   "outputs": [],
   "source": [
    "def run_cypher_query(query):\n",
    "    with driver.session() as session:\n",
    "        result = session.run(query)\n",
    "        return list(result)"
   ]
  },
  {
   "cell_type": "code",
   "execution_count": 5,
   "metadata": {},
   "outputs": [],
   "source": [
    "query_1 = read_cypher_query_from_file(\"moviesDB.cypher\")"
   ]
  },
  {
   "cell_type": "markdown",
   "metadata": {},
   "source": [
    "# Create Database"
   ]
  },
  {
   "cell_type": "code",
   "execution_count": 6,
   "metadata": {},
   "outputs": [
    {
     "data": {
      "text/plain": [
       "<neo4j._sync.work.result.Result at 0x11688798210>"
      ]
     },
     "execution_count": 6,
     "metadata": {},
     "output_type": "execute_result"
    }
   ],
   "source": [
    "run_cypher_query(query_1)"
   ]
  },
  {
   "cell_type": "markdown",
   "metadata": {},
   "source": [
    "# Queries"
   ]
  },
  {
   "cell_type": "markdown",
   "metadata": {},
   "source": [
    "## 1 Find all actors who have also directed movies"
   ]
  },
  {
   "cell_type": "code",
   "execution_count": 7,
   "metadata": {},
   "outputs": [],
   "source": [
    "query = \"\"\"\n",
    "MATCH (p:Person)-[:ACTED_IN]->(), (p)-[:DIRECTED]->()\n",
    "RETURN p.name\n",
    "\"\"\""
   ]
  },
  {
   "cell_type": "code",
   "execution_count": 22,
   "metadata": {},
   "outputs": [],
   "source": [
    "results = run_cypher_query(query)"
   ]
  },
  {
   "cell_type": "code",
   "execution_count": 40,
   "metadata": {},
   "outputs": [],
   "source": [
    "actors=set()\n",
    "for record in results:\n",
    "    actors.update(set(record))"
   ]
  },
  {
   "cell_type": "code",
   "execution_count": 41,
   "metadata": {},
   "outputs": [
    {
     "data": {
      "text/plain": [
       "{'Clint Eastwood',\n",
       " 'Danny DeVito',\n",
       " 'James Marshall',\n",
       " 'Tom Hanks',\n",
       " 'Werner Herzog'}"
      ]
     },
     "execution_count": 41,
     "metadata": {},
     "output_type": "execute_result"
    }
   ],
   "source": [
    "actors"
   ]
  },
  {
   "cell_type": "markdown",
   "metadata": {},
   "source": [
    "## 2 List all movies released after a certain year, ordered by their release date"
   ]
  },
  {
   "cell_type": "code",
   "execution_count": 62,
   "metadata": {},
   "outputs": [],
   "source": [
    "year = 2015\n",
    "query = f\"\"\"\n",
    "MATCH (m:Movie)\n",
    "WHERE m.released > {year}\n",
    "RETURN m.title, m.released\n",
    "ORDER BY m.released ASC\n",
    "\"\"\""
   ]
  },
  {
   "cell_type": "code",
   "execution_count": 63,
   "metadata": {},
   "outputs": [],
   "source": [
    "results = run_cypher_query(query)"
   ]
  },
  {
   "cell_type": "code",
   "execution_count": 64,
   "metadata": {},
   "outputs": [],
   "source": [
    "movies=set()\n",
    "for record in results:\n",
    "    movies.update(set(record))"
   ]
  },
  {
   "cell_type": "code",
   "execution_count": 65,
   "metadata": {},
   "outputs": [
    {
     "data": {
      "text/plain": [
       "{2019, 'Joker', 'Parasite'}"
      ]
     },
     "execution_count": 65,
     "metadata": {},
     "output_type": "execute_result"
    }
   ],
   "source": [
    "movies"
   ]
  },
  {
   "cell_type": "markdown",
   "metadata": {},
   "source": [
    "## 3 List all movies and the roles a Tom Hanks has played in them"
   ]
  },
  {
   "cell_type": "code",
   "execution_count": 78,
   "metadata": {},
   "outputs": [],
   "source": [
    "query = \"\"\"\n",
    "MATCH (p:Person {name: 'Tom Hanks'})-[r:ACTED_IN]->(m:Movie)\n",
    "RETURN m.title, r.roles\n",
    "\"\"\""
   ]
  },
  {
   "cell_type": "code",
   "execution_count": 79,
   "metadata": {},
   "outputs": [],
   "source": [
    "results = run_cypher_query(query)"
   ]
  },
  {
   "cell_type": "code",
   "execution_count": 81,
   "metadata": {},
   "outputs": [
    {
     "data": {
      "text/plain": [
       "[<Record m.title=\"You've Got Mail\" r.roles=['Joe Fox']>,\n",
       " <Record m.title='Sleepless in Seattle' r.roles=['Sam Baldwin']>,\n",
       " <Record m.title='Joe Versus the Volcano' r.roles=['Joe Banks']>,\n",
       " <Record m.title='That Thing You Do' r.roles=['Mr. White']>,\n",
       " <Record m.title='Cloud Atlas' r.roles=['Zachry', 'Dr. Henry Goose', 'Isaac Sachs', 'Dermot Hoggins']>,\n",
       " <Record m.title='The Da Vinci Code' r.roles=['Dr. Robert Langdon']>,\n",
       " <Record m.title='The Green Mile' r.roles=['Paul Edgecomb']>,\n",
       " <Record m.title='Apollo 13' r.roles=['Jim Lovell']>,\n",
       " <Record m.title='Cast Away' r.roles=['Chuck Noland']>,\n",
       " <Record m.title=\"Charlie Wilson's War\" r.roles=['Rep. Charlie Wilson']>,\n",
       " <Record m.title='The Polar Express' r.roles=['Hero Boy', 'Father', 'Conductor', 'Hobo', 'Scrooge', 'Santa Claus']>,\n",
       " <Record m.title='A League of Their Own' r.roles=['Jimmy Dugan']>]"
      ]
     },
     "execution_count": 81,
     "metadata": {},
     "output_type": "execute_result"
    }
   ],
   "source": [
    "results"
   ]
  },
  {
   "cell_type": "markdown",
   "metadata": {},
   "source": [
    "## 4 Find the top 5 most reviewed movies and their review counts"
   ]
  },
  {
   "cell_type": "code",
   "execution_count": 89,
   "metadata": {},
   "outputs": [],
   "source": [
    "query = \"\"\"\n",
    "MATCH (m:Movie)<-[:REVIEWED]-()\n",
    "RETURN m.title, COUNT(*) AS reviewCount\n",
    "ORDER BY reviewCount DESC\n",
    "LIMIT 5\n",
    "\"\"\""
   ]
  },
  {
   "cell_type": "code",
   "execution_count": 90,
   "metadata": {},
   "outputs": [],
   "source": [
    "results = run_cypher_query(query)"
   ]
  },
  {
   "cell_type": "code",
   "execution_count": 91,
   "metadata": {},
   "outputs": [
    {
     "data": {
      "text/plain": [
       "[<Record m.title='The Replacements' reviewCount=3>,\n",
       " <Record m.title='The Da Vinci Code' reviewCount=2>,\n",
       " <Record m.title='The Birdcage' reviewCount=1>,\n",
       " <Record m.title='Unforgiven' reviewCount=1>,\n",
       " <Record m.title='Cloud Atlas' reviewCount=1>]"
      ]
     },
     "execution_count": 91,
     "metadata": {},
     "output_type": "execute_result"
    }
   ],
   "source": [
    "results"
   ]
  }
 ],
 "metadata": {
  "kernelspec": {
   "display_name": "Python 3",
   "language": "python",
   "name": "python3"
  },
  "language_info": {
   "codemirror_mode": {
    "name": "ipython",
    "version": 3
   },
   "file_extension": ".py",
   "mimetype": "text/x-python",
   "name": "python",
   "nbconvert_exporter": "python",
   "pygments_lexer": "ipython3",
   "version": "3.11.0"
  }
 },
 "nbformat": 4,
 "nbformat_minor": 2
}
